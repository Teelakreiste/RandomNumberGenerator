{
  "cells": [
    {
      "cell_type": "markdown",
      "metadata": {
        "id": "view-in-github",
        "colab_type": "text"
      },
      "source": [
        "<a href=\"https://colab.research.google.com/github/Teelakreiste/RandomNumberGenerator/blob/master/Random_Number_Generator.ipynb\" target=\"_parent\"><img src=\"https://colab.research.google.com/assets/colab-badge.svg\" alt=\"Open In Colab\"/></a>"
      ]
    },
    {
      "cell_type": "markdown",
      "source": [
        "# Método de Cuadrados y Productos Centrales\n",
        "\n",
        "Este es un código que implementa el Método de Cuadrados y Productos Centrales para la generación de números aleatorios. El método permite generar secuencias de números pseudoaleatorios utilizando operaciones matemáticas simples a partir de semillas iniciales.\n",
        "\n",
        "## Librerías\n",
        "\n",
        "Se importa la librería `display` de IPython para mostrar resultados y Markdown.\n",
        "\n",
        "## Funciones Principales\n",
        "\n",
        "### `getNumberByMethod(x, y, option)`\n",
        "\n",
        "Esta función obtiene un número calculado según el método seleccionado.\n",
        "\n",
        "- `x`: Semilla uno.\n",
        "- `y`: Semilla dos (ignorada si se utiliza el método de cuadrados centrales).\n",
        "- `option`: Indicador del método (True para cuadrados centrales, False para productos centrales).\n",
        "\n",
        "### `constraint(n, k)`\n",
        "\n",
        "Esta función verifica las restricciones para agregar o no un cero.\n",
        "\n",
        "- `n`: Número a verificar.\n",
        "- `k`: Longitud deseada.\n",
        "\n",
        "### `addZero(n, k, position)`\n",
        "\n",
        "Esta función agrega un cero a la izquierda o derecha de un número según las restricciones.\n",
        "\n",
        "- `n`: Número a modificar.\n",
        "- `k`: Longitud deseada.\n",
        "- `position`: Indicador de posición (True para agregar a la izquierda, False para agregar a la derecha).\n",
        "\n",
        "### `getCentralNumbers(n, k)`\n",
        "\n",
        "Esta función obtiene los dígitos centrales de un número.\n",
        "\n",
        "- `n`: Número del cual se extraerán los dígitos centrales.\n",
        "- `k`: Cantidad de dígitos centrales a extraer.\n",
        "\n",
        "### `random(xOne, xTwo, k, m, method, position)`\n",
        "\n",
        "Esta función genera un número pseudoaleatorio.\n",
        "\n",
        "- `xOne`: Semilla uno.\n",
        "- `xTwo`: Semilla dos.\n",
        "- `k`: Longitud de las semillas.\n",
        "- `m`: Valor de módulo.\n",
        "- `method`: Método seleccionado (True para cuadrados centrales, False para productos centrales).\n",
        "- `position`: Indicador de posición del cero (True para izquierda, False para derecha).\n",
        "\n",
        "### `checkDuplicity(list, n)`\n",
        "\n",
        "Esta función verifica la duplicidad de números generados.\n",
        "\n",
        "- `list`: Lista de números generados.\n",
        "- `n`: Número a verificar.\n",
        "\n",
        "### `showInitParameters(seed_one, seed_two, k, m, zero_left, method)`\n",
        "\n",
        "Esta función muestra los parámetros iniciales.\n",
        "\n",
        "- `seed_one`: Semilla uno.\n",
        "- `seed_two`: Semilla dos (ignorada si se utiliza el método de cuadrados centrales).\n",
        "- `k`: Longitud de las semillas.\n",
        "- `m`: Valor de módulo.\n",
        "- `zero_left`: Indicador de ceros a la izquierda.\n",
        "- `method`: Método seleccionado (cuadrados centrales o productos centrales).\n",
        "\n",
        "### `runMethods(seed_one, seed_two, zero_left, method, iter)`\n",
        "\n",
        "Esta función ejecuta los métodos de generación de números aleatorios.\n",
        "\n",
        "- `seed_one`: Semilla uno.\n",
        "- `seed_two`: Semilla dos (ignorada si se utiliza el método de cuadrados centrales).\n",
        "- `zero_left`: Indicador de ceros a la izquierda.\n",
        "- `method`: Método seleccionado (True para cuadrados centrales, False para productos centrales).\n",
        "- `iter`: Número de iteraciones (0 para cálculo en pausa).\n",
        "\n",
        "## CASO DE PRUEBA\n",
        "\n",
        "### Parámetros Iniciales\n",
        "\n",
        "Los siguientes son los parámetros iniciales para la generación de números aleatorios:\n",
        "\n",
        "- **Método Seleccionado:** Método de Productos Centrales\n",
        "- **Semilla Uno:** 19\n",
        "- **Semilla Dos:** 75\n",
        "- **Agregar Ceros a la Izquierda:** Sí\n",
        "- **Número de Iteraciones:** 20\n",
        "\n",
        "### Ejecución\n",
        "\n",
        "El código permite ejecutar el método de cuadrados centrales o productos centrales según el método seleccionado y muestra los números generados.\n",
        "\n",
        "En caso de que `number_of_iterations = 0` para generar otro número aleatorio, presiona **ENTER**, o cualquier otra tecla para finalizar la ejecución.\n",
        "\n",
        "Caso contrario, se ejecutara un ciclo automáticamente las veces definidas en `number_of_iterations`"
      ],
      "metadata": {
        "id": "-08bpUVjlmzV"
      }
    },
    {
      "cell_type": "code",
      "source": [
        "# @title Libraries\n",
        "from IPython.display import display, Markdown"
      ],
      "metadata": {
        "cellView": "form",
        "id": "cSWjY2bBWQ98"
      },
      "execution_count": null,
      "outputs": []
    },
    {
      "cell_type": "code",
      "source": [
        "# @title Obtain numbers from the selected method\n",
        "def getNumberByMethod(x, y, option):\n",
        "  if (option):\n",
        "    return x ** 2\n",
        "  else:\n",
        "    return x * y\n"
      ],
      "metadata": {
        "cellView": "form",
        "id": "naOsnoi_-0kY"
      },
      "execution_count": null,
      "outputs": []
    },
    {
      "cell_type": "code",
      "execution_count": null,
      "metadata": {
        "cellView": "form",
        "id": "G42ndsU98839"
      },
      "outputs": [],
      "source": [
        "# @title Restrictions for adding or not adding zero\n",
        "def constraint(n, k):\n",
        "  flag = False\n",
        "\n",
        "  if ((k % 2 != 0) and (len(str(n)) % 2 == 0)) or ((k % 2 == 0) and (len(str(n)) % 2 != 0)):\n",
        "    flag = True\n",
        "\n",
        "  return flag"
      ]
    },
    {
      "cell_type": "code",
      "execution_count": null,
      "metadata": {
        "cellView": "form",
        "id": "Jk6y-eA48TkF"
      },
      "outputs": [],
      "source": [
        "# @title Add zero to the left or right\n",
        "def addZero(n, k, position):\n",
        "  strN = ''\n",
        "  if constraint(n, k):\n",
        "    strN = f'0{n}' if (position) else f'{n}0'\n",
        "  else:\n",
        "    strN = str(n)\n",
        "\n",
        "  return strN"
      ]
    },
    {
      "cell_type": "code",
      "execution_count": null,
      "metadata": {
        "cellView": "form",
        "id": "GNRNEFz06TuA"
      },
      "outputs": [],
      "source": [
        "# @title Obtain central numbers\n",
        "def getCentralNumbers(n, k):\n",
        "  half = int((len(n) / 2) - (k / 2))\n",
        "  onlyCentral = ''\n",
        "  for i in range(half, (half + k)):\n",
        "    onlyCentral += n[i]\n",
        "\n",
        "  return int(onlyCentral)"
      ]
    },
    {
      "cell_type": "code",
      "execution_count": null,
      "metadata": {
        "cellView": "form",
        "id": "pICQ8WY--ZHn"
      },
      "outputs": [],
      "source": [
        "# @title Generate random number\n",
        "def random(xOne, xTwo, k, m, method, position):\n",
        "  n = getNumberByMethod(xOne, xTwo, method)\n",
        "  y = getCentralNumbers(addZero(n, k, position), k)\n",
        "\n",
        "  rnd = y/m\n",
        "\n",
        "  xOne = y if (method) else xTwo\n",
        "  xTwo = 0 if (method) else y\n",
        "\n",
        "  return xOne, xTwo, rnd"
      ]
    },
    {
      "cell_type": "code",
      "execution_count": null,
      "metadata": {
        "cellView": "form",
        "id": "JmDRZANKKyOA"
      },
      "outputs": [],
      "source": [
        "# @title Check for duplication\n",
        "def checkDuplicity(list, n, method):\n",
        "  if n in list:\n",
        "    if method:\n",
        "      display(Markdown(\"The execution has been automatically terminated because a repetitive cycle has been detected.\"))\n",
        "      return True\n",
        "    else:\n",
        "      x = list.index(n)\n",
        "      if list[x-1] == list[-1]:\n",
        "        display(Markdown(\"The execution has been automatically terminated because a repetitive cycle has been detected.\"))\n",
        "        return True\n",
        "  else:\n",
        "    list.append(n)\n",
        "    return False"
      ]
    },
    {
      "cell_type": "code",
      "source": [
        "# @title Show initial parameters\n",
        "def showInitParameters(seed_one, seed_two, k, m, zero_left, method):\n",
        "  select = \"Central squares\" if(method) else \"Core products\"\n",
        "  display(Markdown(\"**INITIAL PARAMETERS**\"))\n",
        "  display(Markdown(f\"**Selected Method:** {select}\"))\n",
        "  display(Markdown(f\"**Seed One** = {seed_one}.\"))\n",
        "  display(Markdown(f\"**Seed Two** = {seed_two}.\"))\n",
        "  display(Markdown(f\"**K** = {k}.\"))\n",
        "  display(Markdown(f\"**M** = {m}.\"))\n",
        "  zero_position = 'It has been established to add '\n",
        "  zero_position += 'leading zeros.' if (zero_left) else 'zeros to the right.'\n",
        "  display(Markdown(zero_position))\n",
        "  print(\"\\n\")\n"
      ],
      "metadata": {
        "cellView": "form",
        "id": "uJO2HlXuQSLO"
      },
      "execution_count": null,
      "outputs": []
    },
    {
      "cell_type": "code",
      "source": [
        "# @title Calculates values repeatedly\n",
        "def automatic(seed_one, seed_two, k, m, zero_left, method, iter):\n",
        "  rnds = [0]\n",
        "  n = 0\n",
        "  for i in range (0, iter):\n",
        "    seed_one, seed_two, n = random(seed_one, seed_two, k, m, method, zero_left)\n",
        "    print(f'Random[{i+1}]: {n}\\n')\n",
        "    if (checkDuplicity(rnds, n, method)):\n",
        "      break\n",
        "    rnds.append(n)"
      ],
      "metadata": {
        "cellView": "form",
        "id": "DJetPSP7hldT"
      },
      "execution_count": null,
      "outputs": []
    },
    {
      "cell_type": "code",
      "source": [
        "# @title Calculates the values until the user wishes\n",
        "def manual(seed_one, seed_two,  k, m, zero_left, method):\n",
        "  rnds = [0]\n",
        "  n = 0\n",
        "  i = 0\n",
        "  while True:\n",
        "    seed_one, seed_two, n = random(seed_one, seed_two, k, m, method, zero_left)\n",
        "    print(f'Random[{i+1}]: {n}')\n",
        "    i += 1\n",
        "    if (not input().upper() == '') or (checkDuplicity(rnds, n, method)):\n",
        "      break\n",
        "    rnds.append(n)\n"
      ],
      "metadata": {
        "cellView": "form",
        "id": "LZVvQRyKiBpW"
      },
      "execution_count": null,
      "outputs": []
    },
    {
      "cell_type": "code",
      "source": [
        "# @title Run all methods\n",
        "def runMethods(seed_one, seed_two, zero_left, method, iter):\n",
        "  k = len(str(seed_one))\n",
        "  m = 10 ** k\n",
        "\n",
        "  showInitParameters(seed_one, seed_two, k, m, zero_left, method)\n",
        "  try:\n",
        "    display(Markdown(\"**NOTE:** To generate another random number press **ENTER** or **ANY OTHER KEY** to finish.\"))\n",
        "    if (iter == 0):\n",
        "      manual(seed_one, seed_two,  k, m, zero_left, method)\n",
        "    else:\n",
        "      automatic(seed_one, seed_two,  k, m, zero_left, method, iter)\n",
        "  except:\n",
        "    pass"
      ],
      "metadata": {
        "cellView": "form",
        "id": "47BDjGfHSZf8"
      },
      "execution_count": null,
      "outputs": []
    },
    {
      "cell_type": "markdown",
      "metadata": {
        "id": "j8RFPKHK6Dhc"
      },
      "source": [
        "<center>\n",
        "\n",
        "  # **CALCULATE RANDOMS**\n",
        "\n",
        "</center>"
      ]
    },
    {
      "cell_type": "code",
      "execution_count": null,
      "metadata": {
        "cellView": "form",
        "id": "C1o4tNiv6-6R",
        "colab": {
          "base_uri": "https://localhost:8080/",
          "height": 488
        },
        "outputId": "1584e1d5-5b95-45d3-ac1e-44225a48efc8"
      },
      "outputs": [
        {
          "output_type": "display_data",
          "data": {
            "text/plain": [
              "<IPython.core.display.Markdown object>"
            ],
            "text/markdown": "**INITIAL PARAMETERS**"
          },
          "metadata": {}
        },
        {
          "output_type": "display_data",
          "data": {
            "text/plain": [
              "<IPython.core.display.Markdown object>"
            ],
            "text/markdown": "**Selected Method:** Central squares"
          },
          "metadata": {}
        },
        {
          "output_type": "display_data",
          "data": {
            "text/plain": [
              "<IPython.core.display.Markdown object>"
            ],
            "text/markdown": "**Seed One** = 831."
          },
          "metadata": {}
        },
        {
          "output_type": "display_data",
          "data": {
            "text/plain": [
              "<IPython.core.display.Markdown object>"
            ],
            "text/markdown": "**Seed Two** = 0."
          },
          "metadata": {}
        },
        {
          "output_type": "display_data",
          "data": {
            "text/plain": [
              "<IPython.core.display.Markdown object>"
            ],
            "text/markdown": "**K** = 3."
          },
          "metadata": {}
        },
        {
          "output_type": "display_data",
          "data": {
            "text/plain": [
              "<IPython.core.display.Markdown object>"
            ],
            "text/markdown": "**M** = 1000."
          },
          "metadata": {}
        },
        {
          "output_type": "display_data",
          "data": {
            "text/plain": [
              "<IPython.core.display.Markdown object>"
            ],
            "text/markdown": "It has been established to add zeros to the right."
          },
          "metadata": {}
        },
        {
          "output_type": "stream",
          "name": "stdout",
          "text": [
            "\n",
            "\n"
          ]
        },
        {
          "output_type": "display_data",
          "data": {
            "text/plain": [
              "<IPython.core.display.Markdown object>"
            ],
            "text/markdown": "**NOTE:** To generate another random number press **ENTER** or **ANY OTHER KEY** to finish."
          },
          "metadata": {}
        },
        {
          "output_type": "stream",
          "name": "stdout",
          "text": [
            "Random[1]: 0.056\n",
            "\n",
            "Random[2]: 0.136\n",
            "\n",
            "Random[3]: 0.849\n",
            "\n",
            "Random[4]: 0.08\n",
            "\n",
            "Random[5]: 0.4\n",
            "\n",
            "Random[6]: 0.0\n",
            "\n"
          ]
        },
        {
          "output_type": "display_data",
          "data": {
            "text/plain": [
              "<IPython.core.display.Markdown object>"
            ],
            "text/markdown": "The execution has been automatically terminated because a repetitive cycle has been detected."
          },
          "metadata": {}
        }
      ],
      "source": [
        "#@markdown **INITIAL PARAMETERS**\n",
        "method = 'Central squares' # @param [\"Central squares\", \"Core products\"]\n",
        "#@markdown If the selected method is *centering squares*, **ignore** the `seed_two` parameter.\n",
        "seed_one = 831 #@param {type:\"number\"}\n",
        "seed_two = 0 #@param {type:\"number\"}\n",
        "#@markdown If you **enable** the `zero_left` check, leading zeros will be added. By default, they are added to the right.\n",
        "zero_left = False #@param {type:\"boolean\"}\n",
        "\n",
        "#@markdown Leave the `number_of_iterations = 0`, if you want to calculate random numbers in a paused way.\n",
        "number_of_iterations = 10 #@param {type:\"number\"}\n",
        "if (method == 'Central squares'):\n",
        "  runMethods(seed_one, 0, zero_left, True, number_of_iterations)\n",
        "else:\n",
        "  if (len(str(seed_one)) == len(str(seed_two))):\n",
        "    runMethods(seed_one, seed_two, zero_left, False, number_of_iterations)\n",
        "  else:\n",
        "    display(Markdown(\"**ERROR:** Both seeds must have the same length.\"))\n",
        "    display(Markdown(f'**- seed_one:** {len(str(seed_one))}'))\n",
        "    display(Markdown(f'**- seed_two:** {len(str(seed_two))}'))"
      ]
    }
  ],
  "metadata": {
    "colab": {
      "provenance": [],
      "authorship_tag": "ABX9TyPkqRr6WOvKCGbCvyWdYQUq",
      "include_colab_link": true
    },
    "kernelspec": {
      "display_name": "Python 3",
      "name": "python3"
    },
    "language_info": {
      "name": "python"
    }
  },
  "nbformat": 4,
  "nbformat_minor": 0
}